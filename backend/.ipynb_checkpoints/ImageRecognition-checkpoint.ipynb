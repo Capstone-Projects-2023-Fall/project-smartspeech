{
 "cells": [
  {
   "cell_type": "markdown",
   "id": "af2e01a0",
   "metadata": {},
   "source": [
    "## Image Recognition Services:\n",
    "- Imagga\n",
    "- Azure\n",
    "- Clarifai\n",
    "- IBM\n",
    "- Google Cloud Vision\n",
    "- Amazon Rekognition"
   ]
  },
  {
   "cell_type": "markdown",
   "id": "67ef1c82",
   "metadata": {},
   "source": [
    "### #1 -- Imagga\n",
    "- 1,000 free API requests / month\n",
    "- 70,000 requests / month for 79\n",
    "- 300,000 requests  / month for 350"
   ]
  },
  {
   "cell_type": "code",
   "execution_count": 5,
   "id": "64426b96",
   "metadata": {},
   "outputs": [
    {
     "name": "stdout",
     "output_type": "stream",
     "text": [
      "{'result': {'tags': [{'confidence': 31.5525569915771, 'tag': {'en': 'design'}}, {'confidence': 30.5406150817871, 'tag': {'en': 'lotus'}}, {'confidence': 30.3229732513428, 'tag': {'en': 'drawing'}}, {'confidence': 27.9896793365479, 'tag': {'en': 'art'}}, {'confidence': 27.0303821563721, 'tag': {'en': 'graphic'}}, {'confidence': 24.8676738739014, 'tag': {'en': 'silhouette'}}, {'confidence': 23.412914276123, 'tag': {'en': 'decorative'}}, {'confidence': 22.2680702209473, 'tag': {'en': 'black'}}, {'confidence': 21.2969913482666, 'tag': {'en': 'floral'}}, {'confidence': 20.5404090881348, 'tag': {'en': 'pattern'}}, {'confidence': 20.2273502349854, 'tag': {'en': 'symbol'}}, {'confidence': 19.8180980682373, 'tag': {'en': 'icon'}}, {'confidence': 18.9866981506348, 'tag': {'en': 'decoration'}}, {'confidence': 17.7101917266846, 'tag': {'en': 'flower'}}, {'confidence': 16.5719928741455, 'tag': {'en': 'sign'}}, {'confidence': 16.361759185791, 'tag': {'en': 'leaf'}}, {'confidence': 15.5834083557129, 'tag': {'en': 'artwork'}}, {'confidence': 14.9030075073242, 'tag': {'en': 'element'}}, {'confidence': 14.5817556381226, 'tag': {'en': 'sketch'}}, {'confidence': 14.3325414657593, 'tag': {'en': 'plant'}}, {'confidence': 14.118579864502, 'tag': {'en': 'shape'}}, {'confidence': 13.9452476501465, 'tag': {'en': 'retro'}}, {'confidence': 13.8096914291382, 'tag': {'en': 'ornament'}}, {'confidence': 13.0495939254761, 'tag': {'en': 'artistic'}}, {'confidence': 12.5011177062988, 'tag': {'en': 'cartoon'}}, {'confidence': 12.0631618499756, 'tag': {'en': 'clip art'}}, {'confidence': 11.9099378585815, 'tag': {'en': 'ornate'}}, {'confidence': 11.8839387893677, 'tag': {'en': 'style'}}, {'confidence': 11.4869899749756, 'tag': {'en': 'heraldry'}}, {'confidence': 11.4868001937866, 'tag': {'en': 'creative'}}, {'confidence': 11.3872203826904, 'tag': {'en': 'curve'}}, {'confidence': 11.1508312225342, 'tag': {'en': 'line'}}, {'confidence': 10.8233575820923, 'tag': {'en': 'stencil'}}, {'confidence': 10.6022596359253, 'tag': {'en': 'draw'}}, {'confidence': 10.5393619537354, 'tag': {'en': 'logo'}}, {'confidence': 10.4303560256958, 'tag': {'en': 'outline'}}, {'confidence': 10.3296785354614, 'tag': {'en': 'circle'}}, {'confidence': 10.2179107666016, 'tag': {'en': 'elements'}}, {'confidence': 10.2155437469482, 'tag': {'en': 'spring'}}, {'confidence': 10.0093688964844, 'tag': {'en': 'breeze'}}, {'confidence': 9.57586574554443, 'tag': {'en': 'flowers'}}, {'confidence': 9.54598617553711, 'tag': {'en': 'scroll'}}, {'confidence': 9.53712940216064, 'tag': {'en': 'painting'}}, {'confidence': 8.98427581787109, 'tag': {'en': 'animal'}}, {'confidence': 8.85241794586182, 'tag': {'en': 'decor'}}, {'confidence': 8.81772804260254, 'tag': {'en': 'tattoo'}}, {'confidence': 8.78168392181396, 'tag': {'en': 'celebration'}}, {'confidence': 8.65157127380371, 'tag': {'en': 'ribbon'}}, {'confidence': 8.61954784393311, 'tag': {'en': 'cute'}}, {'confidence': 8.36578273773193, 'tag': {'en': 'hand'}}, {'confidence': 8.35268688201904, 'tag': {'en': 'color'}}, {'confidence': 8.32030773162842, 'tag': {'en': 'cactus'}}, {'confidence': 7.98993682861328, 'tag': {'en': 'bacteria'}}, {'confidence': 7.67231845855713, 'tag': {'en': 'grunge'}}, {'confidence': 7.6207070350647, 'tag': {'en': 'curl'}}, {'confidence': 7.60399007797241, 'tag': {'en': 'ornamental'}}, {'confidence': 7.50464153289795, 'tag': {'en': 'frame'}}, {'confidence': 7.08205461502075, 'tag': {'en': 'summer'}}, {'confidence': 7.00389242172241, 'tag': {'en': 'card'}}]}, 'status': {'text': '', 'type': 'success'}}\n"
     ]
    }
   ],
   "source": [
    "import requests\n",
    "\n",
    "api_key = 'acc_487a77c3f3043f7'\n",
    "api_secret = 'efe660def5a06aa5e4734bc7918f5142'\n",
    "image_url = 'https://i.imgur.com/45fCWA2.png'\n",
    "\n",
    "response = requests.get(\n",
    "    'https://api.imagga.com/v2/tags?image_url=%s' % image_url,\n",
    "    auth=(api_key, api_secret))\n",
    "\n",
    "print(response.json())"
   ]
  },
  {
   "cell_type": "code",
   "execution_count": null,
   "id": "095247e3",
   "metadata": {},
   "outputs": [],
   "source": []
  }
 ],
 "metadata": {
  "kernelspec": {
   "display_name": "Python 3 (ipykernel)",
   "language": "python",
   "name": "python3"
  },
  "language_info": {
   "codemirror_mode": {
    "name": "ipython",
    "version": 3
   },
   "file_extension": ".py",
   "mimetype": "text/x-python",
   "name": "python",
   "nbconvert_exporter": "python",
   "pygments_lexer": "ipython3",
   "version": "3.10.4"
  }
 },
 "nbformat": 4,
 "nbformat_minor": 5
}
