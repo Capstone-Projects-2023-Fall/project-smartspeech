{
 "cells": [
  {
   "cell_type": "markdown",
   "id": "9c6e9c2b",
   "metadata": {},
   "source": [
    "## Image Recognition Services:\n",
    "- Imagga\n",
    "- Azure\n",
    "- Clarifai\n",
    "- IBM\n",
    "- Google Cloud Vision\n",
    "- Amazon Rekognition"
   ]
  },
  {
   "cell_type": "code",
   "execution_count": 2,
   "id": "fa036cab",
   "metadata": {},
   "outputs": [],
   "source": [
    "# Image1 is a flower\n",
    "image1_url = 'https://i.imgur.com/45fCWA2.png'\n",
    "\n",
    "# Image2 is a clock\n",
    "image2_url = 'https://i.imgur.com/AwXMYLa.png'"
   ]
  },
  {
   "cell_type": "markdown",
   "id": "e9bbba46",
   "metadata": {},
   "source": [
    "### #1 -- Imagga\n",
    "- 1,000 free API requests / month\n",
    "- 70,000 requests / month for 79\n",
    "- 300,000 requests  / month for 350"
   ]
  },
  {
   "cell_type": "code",
   "execution_count": 3,
   "id": "33be36f2",
   "metadata": {},
   "outputs": [
    {
     "name": "stdout",
     "output_type": "stream",
     "text": [
      "{'result': {'tags': [{'confidence': 31.5525569915771, 'tag': {'en': 'design'}}, {'confidence': 30.5406265258789, 'tag': {'en': 'lotus'}}, {'confidence': 30.3229732513428, 'tag': {'en': 'drawing'}}, {'confidence': 27.9896831512451, 'tag': {'en': 'art'}}, {'confidence': 27.0303821563721, 'tag': {'en': 'graphic'}}, {'confidence': 24.8676738739014, 'tag': {'en': 'silhouette'}}, {'confidence': 23.412914276123, 'tag': {'en': 'decorative'}}, {'confidence': 22.2680702209473, 'tag': {'en': 'black'}}, {'confidence': 21.2969913482666, 'tag': {'en': 'floral'}}, {'confidence': 20.5404090881348, 'tag': {'en': 'pattern'}}, {'confidence': 20.2273502349854, 'tag': {'en': 'symbol'}}, {'confidence': 19.8180980682373, 'tag': {'en': 'icon'}}, {'confidence': 18.9866981506348, 'tag': {'en': 'decoration'}}, {'confidence': 17.7101917266846, 'tag': {'en': 'flower'}}, {'confidence': 16.5719928741455, 'tag': {'en': 'sign'}}, {'confidence': 16.361759185791, 'tag': {'en': 'leaf'}}, {'confidence': 15.5834083557129, 'tag': {'en': 'artwork'}}, {'confidence': 14.9030075073242, 'tag': {'en': 'element'}}, {'confidence': 14.5817556381226, 'tag': {'en': 'sketch'}}, {'confidence': 14.3325281143188, 'tag': {'en': 'plant'}}, {'confidence': 14.118579864502, 'tag': {'en': 'shape'}}, {'confidence': 13.9452476501465, 'tag': {'en': 'retro'}}, {'confidence': 13.8096914291382, 'tag': {'en': 'ornament'}}, {'confidence': 13.0495939254761, 'tag': {'en': 'artistic'}}, {'confidence': 12.5011177062988, 'tag': {'en': 'cartoon'}}, {'confidence': 12.0631618499756, 'tag': {'en': 'clip art'}}, {'confidence': 11.9099378585815, 'tag': {'en': 'ornate'}}, {'confidence': 11.8839387893677, 'tag': {'en': 'style'}}, {'confidence': 11.4870338439941, 'tag': {'en': 'heraldry'}}, {'confidence': 11.4868001937866, 'tag': {'en': 'creative'}}, {'confidence': 11.3872203826904, 'tag': {'en': 'curve'}}, {'confidence': 11.1508312225342, 'tag': {'en': 'line'}}, {'confidence': 10.8233509063721, 'tag': {'en': 'stencil'}}, {'confidence': 10.6022567749023, 'tag': {'en': 'draw'}}, {'confidence': 10.5393619537354, 'tag': {'en': 'logo'}}, {'confidence': 10.4303560256958, 'tag': {'en': 'outline'}}, {'confidence': 10.3296804428101, 'tag': {'en': 'circle'}}, {'confidence': 10.2179107666016, 'tag': {'en': 'elements'}}, {'confidence': 10.2155437469482, 'tag': {'en': 'spring'}}, {'confidence': 10.0093269348145, 'tag': {'en': 'breeze'}}, {'confidence': 9.57586574554443, 'tag': {'en': 'flowers'}}, {'confidence': 9.54598617553711, 'tag': {'en': 'scroll'}}, {'confidence': 9.53712844848633, 'tag': {'en': 'painting'}}, {'confidence': 8.98427581787109, 'tag': {'en': 'animal'}}, {'confidence': 8.85241985321045, 'tag': {'en': 'decor'}}, {'confidence': 8.81772804260254, 'tag': {'en': 'tattoo'}}, {'confidence': 8.78168392181396, 'tag': {'en': 'celebration'}}, {'confidence': 8.65156650543213, 'tag': {'en': 'ribbon'}}, {'confidence': 8.61954784393311, 'tag': {'en': 'cute'}}, {'confidence': 8.36578273773193, 'tag': {'en': 'hand'}}, {'confidence': 8.35268688201904, 'tag': {'en': 'color'}}, {'confidence': 8.32028007507324, 'tag': {'en': 'cactus'}}, {'confidence': 7.98994922637939, 'tag': {'en': 'bacteria'}}, {'confidence': 7.67231845855713, 'tag': {'en': 'grunge'}}, {'confidence': 7.62070751190186, 'tag': {'en': 'curl'}}, {'confidence': 7.60399055480957, 'tag': {'en': 'ornamental'}}, {'confidence': 7.50464153289795, 'tag': {'en': 'frame'}}, {'confidence': 7.08205556869507, 'tag': {'en': 'summer'}}, {'confidence': 7.00389051437378, 'tag': {'en': 'card'}}]}, 'status': {'text': '', 'type': 'success'}}\n"
     ]
    }
   ],
   "source": [
    "import requests\n",
    "from IPython.display import Image\n",
    "\n",
    "api_key = 'acc_487a77c3f3043f7'\n",
    "api_secret = 'efe660def5a06aa5e4734bc7918f5142'\n",
    "\n",
    "response = requests.get(\n",
    "    'https://api.imagga.com/v2/tags?image_url=%s' % image1_url,\n",
    "    auth=(api_key, api_secret))\n",
    "\n",
    "print(response.json())"
   ]
  },
  {
   "cell_type": "code",
   "execution_count": 10,
   "id": "9ca944d0",
   "metadata": {},
   "outputs": [
    {
     "name": "stdout",
     "output_type": "stream",
     "text": [
      "{'result': {'tags': [{'confidence': 32.2069358825684, 'tag': {'en': 'cartoon'}}, {'confidence': 27.7966213226318, 'tag': {'en': 'icon'}}, {'confidence': 27.669527053833, 'tag': {'en': 'drawing'}}, {'confidence': 24.7234039306641, 'tag': {'en': 'black'}}, {'confidence': 24.3126182556152, 'tag': {'en': 'symbol'}}, {'confidence': 24.0836277008057, 'tag': {'en': 'silhouette'}}, {'confidence': 23.3880729675293, 'tag': {'en': 'sign'}}, {'confidence': 23.3209686279297, 'tag': {'en': 'art'}}, {'confidence': 21.4526844024658, 'tag': {'en': 'design'}}, {'confidence': 16.355504989624, 'tag': {'en': 'sketch'}}, {'confidence': 13.9040899276733, 'tag': {'en': 'graphic'}}, {'confidence': 13.4371881484985, 'tag': {'en': 'logo'}}, {'confidence': 13.2384376525879, 'tag': {'en': 'character'}}, {'confidence': 12.8573741912842, 'tag': {'en': 'artwork'}}, {'confidence': 12.3455848693848, 'tag': {'en': 'outline'}}, {'confidence': 12.0799417495728, 'tag': {'en': 'clip art'}}, {'confidence': 11.8349323272705, 'tag': {'en': 'animal'}}, {'confidence': 11.1719675064087, 'tag': {'en': 'line'}}, {'confidence': 10.72021484375, 'tag': {'en': 'comic'}}, {'confidence': 10.4394836425781, 'tag': {'en': 'shape'}}, {'confidence': 10.2774887084961, 'tag': {'en': 'clip'}}, {'confidence': 10.121452331543, 'tag': {'en': 'conserve'}}, {'confidence': 10.0753564834595, 'tag': {'en': 'cute'}}, {'confidence': 9.93497180938721, 'tag': {'en': 'tracing'}}, {'confidence': 9.77897453308105, 'tag': {'en': 'human'}}, {'confidence': 9.67241954803467, 'tag': {'en': 'style'}}, {'confidence': 9.4364185333252, 'tag': {'en': 'man'}}, {'confidence': 9.20822715759277, 'tag': {'en': 'funny'}}, {'confidence': 9.18425464630127, 'tag': {'en': 'hand'}}, {'confidence': 8.80145454406738, 'tag': {'en': 'happy'}}, {'confidence': 8.69519233703613, 'tag': {'en': 'humor'}}, {'confidence': 8.52863788604736, 'tag': {'en': 'business'}}, {'confidence': 8.3931303024292, 'tag': {'en': 'people'}}, {'confidence': 8.35620307922363, 'tag': {'en': 'child'}}, {'confidence': 8.31019878387451, 'tag': {'en': 'graphics'}}, {'confidence': 7.8379545211792, 'tag': {'en': 'face'}}, {'confidence': 7.76687145233154, 'tag': {'en': 'contour'}}, {'confidence': 7.57883548736572, 'tag': {'en': 'elegance'}}, {'confidence': 7.55024194717407, 'tag': {'en': 'cutout'}}, {'confidence': 7.43238115310669, 'tag': {'en': 'care'}}, {'confidence': 7.42326879501343, 'tag': {'en': 'single'}}, {'confidence': 7.35458469390869, 'tag': {'en': 'object'}}, {'confidence': 7.13121366500854, 'tag': {'en': 'mother'}}, {'confidence': 7.12441253662109, 'tag': {'en': 'love'}}, {'confidence': 7.07556343078613, 'tag': {'en': 'conceptual'}}, {'confidence': 7.00082015991211, 'tag': {'en': 'food'}}]}, 'status': {'text': '', 'type': 'success'}}\n"
     ]
    }
   ],
   "source": [
    "response = requests.get(\n",
    "    'https://api.imagga.com/v2/tags?image_url=%s' % image2_url,\n",
    "    auth=(api_key, api_secret))\n",
    "\n",
    "print(response.json())"
   ]
  },
  {
   "cell_type": "markdown",
   "id": "2f5eb913",
   "metadata": {},
   "source": [
    "### #2 -- Clarifai\n",
    "- Free online inferences\n",
    "- Output is good but only gives 1 output.\n",
    "    - Output for a flower has a flower in the output, but the clock does not work.\n",
    "    - This model is trained for realistic RGB images"
   ]
  },
  {
   "cell_type": "code",
   "execution_count": 7,
   "id": "120e83c8",
   "metadata": {},
   "outputs": [
    {
     "data": {
      "text/html": [
       "<img src=\"https://i.imgur.com/Se2jGRn.png\"/>"
      ],
      "text/plain": [
       "<IPython.core.display.Image object>"
      ]
     },
     "execution_count": 7,
     "metadata": {},
     "output_type": "execute_result"
    }
   ],
   "source": [
    "Image(url='https://i.imgur.com/Se2jGRn.png')"
   ]
  },
  {
   "cell_type": "code",
   "execution_count": 10,
   "id": "8661ca0b",
   "metadata": {},
   "outputs": [
    {
     "data": {
      "text/html": [
       "<img src=\"https://i.imgur.com/fUAZfwP.png\"/>"
      ],
      "text/plain": [
       "<IPython.core.display.Image object>"
      ]
     },
     "execution_count": 10,
     "metadata": {},
     "output_type": "execute_result"
    }
   ],
   "source": [
    "Image(url='https://i.imgur.com/fUAZfwP.png')"
   ]
  },
  {
   "cell_type": "markdown",
   "id": "ab2adfca",
   "metadata": {},
   "source": [
    "### #3 -- Amazon Rekognition\n",
    "- Can correctly classify a drawing of a flower, but cannot classify a drawing of a clock"
   ]
  },
  {
   "cell_type": "code",
   "execution_count": 4,
   "id": "3d8d110c",
   "metadata": {},
   "outputs": [
    {
     "data": {
      "text/html": [
       "<img src=\"https://i.imgur.com/vQOiUMj.png\"/>"
      ],
      "text/plain": [
       "<IPython.core.display.Image object>"
      ]
     },
     "execution_count": 4,
     "metadata": {},
     "output_type": "execute_result"
    }
   ],
   "source": [
    "Image(url='https://i.imgur.com/vQOiUMj.png')"
   ]
  },
  {
   "cell_type": "code",
   "execution_count": 5,
   "id": "c8d1aede",
   "metadata": {},
   "outputs": [
    {
     "data": {
      "text/html": [
       "<img src=\"https://i.imgur.com/iytGQel.png\"/>"
      ],
      "text/plain": [
       "<IPython.core.display.Image object>"
      ]
     },
     "execution_count": 5,
     "metadata": {},
     "output_type": "execute_result"
    }
   ],
   "source": [
    "Image(url='https://i.imgur.com/iytGQel.png')"
   ]
  },
  {
   "cell_type": "code",
   "execution_count": null,
   "id": "27214643",
   "metadata": {},
   "outputs": [],
   "source": []
  }
 ],
 "metadata": {
  "kernelspec": {
   "display_name": "Python 3 (ipykernel)",
   "language": "python",
   "name": "python3"
  },
  "language_info": {
   "codemirror_mode": {
    "name": "ipython",
    "version": 3
   },
   "file_extension": ".py",
   "mimetype": "text/x-python",
   "name": "python",
   "nbconvert_exporter": "python",
   "pygments_lexer": "ipython3",
   "version": "3.10.4"
  }
 },
 "nbformat": 4,
 "nbformat_minor": 5
}
